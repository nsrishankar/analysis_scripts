{
 "cells": [
  {
   "cell_type": "markdown",
   "metadata": {},
   "source": [
    "# For Failed experiments"
   ]
  },
  {
   "cell_type": "code",
   "execution_count": 1,
   "metadata": {
    "collapsed": true
   },
   "outputs": [],
   "source": [
    "import csv\n",
    "import sys\n",
    "import os\n",
    "import re\n",
    "import numpy as np\n",
    "import datetime\n",
    "\n",
    "import matplotlib\n",
    "import matplotlib.pyplot as plt\n",
    "import matplotlib.gridspec as gridspec\n",
    "from matplotlib.pyplot import cm \n",
    "import seaborn as sns\n",
    "import pandas as pd\n",
    "from scipy.interpolate import griddata\n",
    "\n",
    "% matplotlib inline"
   ]
  },
  {
   "cell_type": "code",
   "execution_count": 2,
   "metadata": {
    "collapsed": true
   },
   "outputs": [],
   "source": [
    "# save_file='analysis_out/'\n",
    "# converged_data=save_file+'new_notconverged_details.txt'\n",
    "save_file='data_pi3_out/'\n",
    "converged_data=save_file+'notconverged_pi3_notnormalized.txt'"
   ]
  },
  {
   "cell_type": "code",
   "execution_count": 3,
   "metadata": {
    "collapsed": true
   },
   "outputs": [],
   "source": [
    "# Nifty trick\n",
    "class Customdictionary(dict):\n",
    "    def __setitem__(self,key,value):\n",
    "        try:\n",
    "            self[key]\n",
    "        except KeyError:\n",
    "            super(Customdictionary,self).__setitem__(key,[])\n",
    "        self[key].append(value)"
   ]
  },
  {
   "cell_type": "code",
   "execution_count": 4,
   "metadata": {
    "collapsed": true
   },
   "outputs": [],
   "source": [
    "def remove_chars(string):\n",
    "    chars=\"[^0123456789\\.]\"\n",
    "    return re.sub(chars,\"\",string)"
   ]
  },
  {
   "cell_type": "markdown",
   "metadata": {},
   "source": [
    "### Cluster Data Read"
   ]
  },
  {
   "cell_type": "code",
   "execution_count": 5,
   "metadata": {
    "collapsed": true
   },
   "outputs": [],
   "source": [
    "# Separating data based on sensor noise\n",
    "converged_data_dict_00=Customdictionary()\n",
    "converged_data_dict_05=Customdictionary()\n",
    "converged_data_dict_10=Customdictionary()\n",
    "converged_data_dict_20=Customdictionary()\n",
    "converged_data_dict_25=Customdictionary()\n",
    "converged_data_dict_30=Customdictionary()\n",
    "converged_data_dict_40=Customdictionary()\n",
    "\n",
    "with open(converged_data,'r') as f:\n",
    "    for line in f:\n",
    "        temp=line.split(',')\n",
    "        \n",
    "        data_val=int(temp[2].lstrip())\n",
    "        key_raw=(temp[0]+temp[1]).split('_')\n",
    "        arena_length=int(key_raw[1])\n",
    "        arena_size=arena_length*arena_length\n",
    "        n_robots=int(arena_size*float(key_raw[3]))\n",
    "        n_defecting=int(n_robots*float(key_raw[5]))\n",
    "        comm_range=int(key_raw[7])\n",
    "        sensor_fault=float(key_raw[11])\n",
    "\n",
    "\n",
    "        if sensor_fault==0.0:\n",
    "#             key=(sensor_fault,float(key_raw[5])) # (SensorfaultFraction,DefectingRobotsFraction)\n",
    "            key=float(key_raw[5]) \n",
    "            value=int(data_val) # Timestep\n",
    "            converged_data_dict_00[key]=value\n",
    "        elif sensor_fault==0.05:\n",
    "#             key=(sensor_fault,float(key_raw[5])) # (SensorfaultFraction,DefectingRobotsFraction)\n",
    "            key=float(key_raw[5])\n",
    "            value=int(data_val) # Timestep\n",
    "            converged_data_dict_05[key]=data_val\n",
    "        elif sensor_fault==0.10:\n",
    "#             key=(sensor_fault,float(key_raw[5])) # (SensorfaultFraction,DefectingRobotsFraction)\n",
    "            key=float(key_raw[5])\n",
    "            value=int(data_val) # Timestep\n",
    "            converged_data_dict_10[key]=data_val\n",
    "        elif sensor_fault==0.20:\n",
    "#             key=(sensor_fault,float(key_raw[5])) # (SensorfaultFraction,DefectingRobotsFraction)\n",
    "            key=float(key_raw[5])\n",
    "            value=int(data_val) # Timestep\n",
    "            converged_data_dict_20[key]=data_val\n",
    "        elif sensor_fault==0.25:\n",
    "#             key=(sensor_fault,float(key_raw[5])) # (SensorfaultFraction,DefectingRobotsFraction)\n",
    "            key=float(key_raw[5])\n",
    "            value=int(data_val) # Timestep\n",
    "            converged_data_dict_25[key]=data_val\n",
    "        elif sensor_fault==0.30:\n",
    "#             key=(sensor_fault,float(key_raw[5])) # (SensorfaultFraction,DefectingRobotsFraction)\n",
    "            key=float(key_raw[5])\n",
    "            value=int(data_val) # Timestep\n",
    "            converged_data_dict_30[key]=data_val\n",
    "        elif sensor_fault==0.40:\n",
    "#             key=(sensor_fault,float(key_raw[5])) # (SensorfaultFraction,DefectingRobotsFraction)\n",
    "            key=float(key_raw[5])\n",
    "            value=int(data_val) # Timestep\n",
    "            converged_data_dict_40[key]=data_val"
   ]
  },
  {
   "cell_type": "code",
   "execution_count": 6,
   "metadata": {
    "collapsed": true
   },
   "outputs": [],
   "source": [
    "# Summaries\n",
    "count_tstep_summary_dict_00=Customdictionary()\n",
    "count_tstep_summary_dict_05=Customdictionary()\n",
    "count_tstep_summary_dict_10=Customdictionary()\n",
    "count_tstep_summary_dict_20=Customdictionary()\n",
    "count_tstep_summary_dict_25=Customdictionary()\n",
    "count_tstep_summary_dict_30=Customdictionary()\n",
    "count_tstep_summary_dict_40=Customdictionary()\n",
    "\n",
    "mean_tstep_summary_dict_00=Customdictionary()\n",
    "mean_tstep_summary_dict_05=Customdictionary()\n",
    "mean_tstep_summary_dict_10=Customdictionary()\n",
    "mean_tstep_summary_dict_20=Customdictionary()\n",
    "mean_tstep_summary_dict_25=Customdictionary()\n",
    "mean_tstep_summary_dict_30=Customdictionary()\n",
    "mean_tstep_summary_dict_40=Customdictionary()\n",
    "\n",
    "for key, value in converged_data_dict_00.items():\n",
    "    successful_experiments=len(value)\n",
    "    mean_tstep=np.mean(value)\n",
    "#     summary_dict_00[key]=successful_experiments,round(mean_tstep)\n",
    "    count_tstep_summary_dict_00[key]=successful_experiments\n",
    "    mean_tstep_summary_dict_00[key]=round(mean_tstep)\n",
    "    \n",
    "for key, value in converged_data_dict_05.items():\n",
    "    successful_experiments=len(value)\n",
    "    mean_tstep=np.mean(value)\n",
    "#     summary_dict_05[key]=successful_experiments,round(mean_tstep)\n",
    "    count_tstep_summary_dict_05[key]=successful_experiments\n",
    "    mean_tstep_summary_dict_05[key]=round(mean_tstep)\n",
    "\n",
    "for key, value in converged_data_dict_10.items():\n",
    "    successful_experiments=len(value)\n",
    "    mean_tstep=np.mean(value)\n",
    "#     summary_dict_10[key]=successful_experiments,round(mean_tstep)\n",
    "    count_tstep_summary_dict_10[key]=successful_experiments\n",
    "    mean_tstep_summary_dict_10[key]=round(mean_tstep)\n",
    "\n",
    "for key, value in converged_data_dict_20.items():\n",
    "    successful_experiments=len(value)\n",
    "    mean_tstep=np.mean(value)\n",
    "#     summary_dict_20[key]=successful_experiments,round(mean_tstep)\n",
    "    count_tstep_summary_dict_20[key]=successful_experiments\n",
    "    mean_tstep_summary_dict_20[key]=round(mean_tstep)\n",
    "\n",
    "for key, value in converged_data_dict_25.items():\n",
    "    successful_experiments=len(value)\n",
    "    mean_tstep=np.mean(value)\n",
    "#     summary_dict_25[key]=successful_experiments,round(mean_tstep)\n",
    "    count_tstep_summary_dict_25[key]=successful_experiments\n",
    "    mean_tstep_summary_dict_25[key]=round(mean_tstep)\n",
    "\n",
    "for key, value in converged_data_dict_30.items():\n",
    "    successful_experiments=len(value)\n",
    "    mean_tstep=np.mean(value)\n",
    "#     summary_dict_30[key]=successful_experiments,round(mean_tstep)\n",
    "    count_tstep_summary_dict_30[key]=successful_experiments\n",
    "    mean_tstep_summary_dict_30[key]=round(mean_tstep)\n",
    "\n",
    "for key, value in converged_data_dict_40.items():\n",
    "    successful_experiments=len(value)\n",
    "    mean_tstep=np.mean(value)\n",
    "#     summary_dict_40[key]=successful_experiments,round(mean_tstep)\n",
    "    count_tstep_summary_dict_40[key]=successful_experiments\n",
    "    mean_tstep_summary_dict_40[key]=round(mean_tstep)"
   ]
  },
  {
   "cell_type": "raw",
   "metadata": {},
   "source": [
    "for key,value in count_tstep_summary_dict_00.items():\n",
    "    print(\"Key: \",key,\">>>>>>>>> Value: \",value,\"\\n\")"
   ]
  },
  {
   "cell_type": "raw",
   "metadata": {},
   "source": [
    "for key,value in count_tstep_summary_dict_05.items():\n",
    "    print(\"Key: \",key,\">>>>>>>>> Value: \",value,\"\\n\")"
   ]
  },
  {
   "cell_type": "raw",
   "metadata": {},
   "source": [
    "for key,value in count_tstep_summary_dict_10.items():\n",
    "    print(\"Key: \",key,\">>>>>>>>> Value: \",value,\"\\n\")"
   ]
  },
  {
   "cell_type": "raw",
   "metadata": {},
   "source": [
    "for key,value in count_tstep_summary_dict_20.items():\n",
    "    print(\"Key: \",key,\">>>>>>>>> Value: \",value,\"\\n\")"
   ]
  },
  {
   "cell_type": "raw",
   "metadata": {},
   "source": [
    "for key,value in count_tstep_summary_dict_25.items():\n",
    "    print(\"Key: \",key,\">>>>>>>>> Value: \",value,\"\\n\")"
   ]
  },
  {
   "cell_type": "raw",
   "metadata": {},
   "source": [
    "for key,value in count_tstep_summary_dict_30.items():\n",
    "    print(\"Key: \",key,\">>>>>>>>> Value: \",value,\"\\n\")"
   ]
  },
  {
   "cell_type": "raw",
   "metadata": {},
   "source": [
    "for key,value in count_tstep_summary_dict_40.items():\n",
    "    print(\"Key: \",key,\">>>>>>>>> Value: \",value,\"\\n\")"
   ]
  },
  {
   "cell_type": "markdown",
   "metadata": {},
   "source": [
    "### Setup"
   ]
  },
  {
   "cell_type": "code",
   "execution_count": 7,
   "metadata": {
    "collapsed": true
   },
   "outputs": [],
   "source": [
    "# Need to create an array from the summary dictionaries. Shoddy code\n",
    "index=['0.00']\n",
    "ct_df1=pd.DataFrame(data=count_tstep_summary_dict_00,index=index)\n",
    "index=['0.05']\n",
    "ct_df2=pd.DataFrame(data=count_tstep_summary_dict_05,index=index)\n",
    "index=['0.10']\n",
    "ct_df3=pd.DataFrame(data=count_tstep_summary_dict_10,index=index)\n",
    "index=['0.20']\n",
    "ct_df4=pd.DataFrame(data=count_tstep_summary_dict_20,index=index)\n",
    "index=['0.25']\n",
    "ct_df5=pd.DataFrame(data=count_tstep_summary_dict_25,index=index)\n",
    "index=['0.30']\n",
    "ct_df6=pd.DataFrame(data=count_tstep_summary_dict_30,index=index)\n",
    "index=['0.40']\n",
    "ct_df7=pd.DataFrame(data=count_tstep_summary_dict_40,index=index)\n",
    "\n",
    "ct_df_all=ct_df7.append(ct_df6).append(ct_df5).append(ct_df4).append(ct_df3).append(ct_df2).append(ct_df1)"
   ]
  },
  {
   "cell_type": "code",
   "execution_count": 8,
   "metadata": {},
   "outputs": [
    {
     "data": {
      "text/html": [
       "<div>\n",
       "<style>\n",
       "    .dataframe thead tr:only-child th {\n",
       "        text-align: right;\n",
       "    }\n",
       "\n",
       "    .dataframe thead th {\n",
       "        text-align: left;\n",
       "    }\n",
       "\n",
       "    .dataframe tbody tr th {\n",
       "        vertical-align: top;\n",
       "    }\n",
       "</style>\n",
       "<table border=\"1\" class=\"dataframe\">\n",
       "  <thead>\n",
       "    <tr style=\"text-align: right;\">\n",
       "      <th></th>\n",
       "      <th>0.05</th>\n",
       "      <th>0.1</th>\n",
       "      <th>0.125</th>\n",
       "      <th>0.15</th>\n",
       "      <th>0.2</th>\n",
       "      <th>0.25</th>\n",
       "      <th>0.3</th>\n",
       "      <th>0.4</th>\n",
       "      <th>0.5</th>\n",
       "      <th>0.6</th>\n",
       "      <th>0.75</th>\n",
       "      <th>0.8</th>\n",
       "    </tr>\n",
       "  </thead>\n",
       "  <tbody>\n",
       "    <tr>\n",
       "      <th>0.40</th>\n",
       "      <td>72.0</td>\n",
       "      <td>121.0</td>\n",
       "      <td>141.0</td>\n",
       "      <td>164.0</td>\n",
       "      <td>185.0</td>\n",
       "      <td>204</td>\n",
       "      <td>219</td>\n",
       "      <td>244</td>\n",
       "      <td>264</td>\n",
       "      <td>268</td>\n",
       "      <td>272</td>\n",
       "      <td>281</td>\n",
       "    </tr>\n",
       "    <tr>\n",
       "      <th>0.30</th>\n",
       "      <td>25.0</td>\n",
       "      <td>43.0</td>\n",
       "      <td>53.0</td>\n",
       "      <td>64.0</td>\n",
       "      <td>88.0</td>\n",
       "      <td>112</td>\n",
       "      <td>126</td>\n",
       "      <td>152</td>\n",
       "      <td>181</td>\n",
       "      <td>193</td>\n",
       "      <td>214</td>\n",
       "      <td>218</td>\n",
       "    </tr>\n",
       "    <tr>\n",
       "      <th>0.25</th>\n",
       "      <td>12.0</td>\n",
       "      <td>23.0</td>\n",
       "      <td>32.0</td>\n",
       "      <td>38.0</td>\n",
       "      <td>59.0</td>\n",
       "      <td>78</td>\n",
       "      <td>85</td>\n",
       "      <td>106</td>\n",
       "      <td>127</td>\n",
       "      <td>151</td>\n",
       "      <td>163</td>\n",
       "      <td>166</td>\n",
       "    </tr>\n",
       "    <tr>\n",
       "      <th>0.20</th>\n",
       "      <td>6.0</td>\n",
       "      <td>15.0</td>\n",
       "      <td>17.0</td>\n",
       "      <td>23.0</td>\n",
       "      <td>36.0</td>\n",
       "      <td>51</td>\n",
       "      <td>59</td>\n",
       "      <td>79</td>\n",
       "      <td>95</td>\n",
       "      <td>111</td>\n",
       "      <td>110</td>\n",
       "      <td>121</td>\n",
       "    </tr>\n",
       "    <tr>\n",
       "      <th>0.10</th>\n",
       "      <td>1.0</td>\n",
       "      <td>6.0</td>\n",
       "      <td>8.0</td>\n",
       "      <td>10.0</td>\n",
       "      <td>16.0</td>\n",
       "      <td>24</td>\n",
       "      <td>31</td>\n",
       "      <td>50</td>\n",
       "      <td>58</td>\n",
       "      <td>64</td>\n",
       "      <td>61</td>\n",
       "      <td>57</td>\n",
       "    </tr>\n",
       "    <tr>\n",
       "      <th>0.05</th>\n",
       "      <td>NaN</td>\n",
       "      <td>2.0</td>\n",
       "      <td>4.0</td>\n",
       "      <td>8.0</td>\n",
       "      <td>9.0</td>\n",
       "      <td>14</td>\n",
       "      <td>21</td>\n",
       "      <td>31</td>\n",
       "      <td>43</td>\n",
       "      <td>48</td>\n",
       "      <td>50</td>\n",
       "      <td>47</td>\n",
       "    </tr>\n",
       "    <tr>\n",
       "      <th>0.00</th>\n",
       "      <td>NaN</td>\n",
       "      <td>NaN</td>\n",
       "      <td>NaN</td>\n",
       "      <td>NaN</td>\n",
       "      <td>NaN</td>\n",
       "      <td>2</td>\n",
       "      <td>3</td>\n",
       "      <td>6</td>\n",
       "      <td>8</td>\n",
       "      <td>9</td>\n",
       "      <td>10</td>\n",
       "      <td>12</td>\n",
       "    </tr>\n",
       "  </tbody>\n",
       "</table>\n",
       "</div>"
      ],
      "text/plain": [
       "      0.050  0.100  0.125  0.150  0.200  0.250  0.300  0.400  0.500  0.600  \\\n",
       "0.40   72.0  121.0  141.0  164.0  185.0    204    219    244    264    268   \n",
       "0.30   25.0   43.0   53.0   64.0   88.0    112    126    152    181    193   \n",
       "0.25   12.0   23.0   32.0   38.0   59.0     78     85    106    127    151   \n",
       "0.20    6.0   15.0   17.0   23.0   36.0     51     59     79     95    111   \n",
       "0.10    1.0    6.0    8.0   10.0   16.0     24     31     50     58     64   \n",
       "0.05    NaN    2.0    4.0    8.0    9.0     14     21     31     43     48   \n",
       "0.00    NaN    NaN    NaN    NaN    NaN      2      3      6      8      9   \n",
       "\n",
       "      0.750  0.800  \n",
       "0.40    272    281  \n",
       "0.30    214    218  \n",
       "0.25    163    166  \n",
       "0.20    110    121  \n",
       "0.10     61     57  \n",
       "0.05     50     47  \n",
       "0.00     10     12  "
      ]
     },
     "execution_count": 8,
     "metadata": {},
     "output_type": "execute_result"
    }
   ],
   "source": [
    "ct_df_all"
   ]
  },
  {
   "cell_type": "code",
   "execution_count": 9,
   "metadata": {
    "collapsed": true
   },
   "outputs": [],
   "source": [
    "# Need to create an array from the summary dictionaries. Shoddy code\n",
    "index=['0.00']\n",
    "mt_df1=pd.DataFrame(data=mean_tstep_summary_dict_00,index=index)\n",
    "index=['0.05']\n",
    "mt_df2=pd.DataFrame(data=mean_tstep_summary_dict_05,index=index)\n",
    "index=['0.10']\n",
    "mt_df3=pd.DataFrame(data=mean_tstep_summary_dict_10,index=index)\n",
    "index=['0.20']\n",
    "mt_df4=pd.DataFrame(data=mean_tstep_summary_dict_20,index=index)\n",
    "index=['0.25']\n",
    "mt_df5=pd.DataFrame(data=mean_tstep_summary_dict_25,index=index)\n",
    "index=['0.30']\n",
    "mt_df6=pd.DataFrame(data=mean_tstep_summary_dict_30,index=index)\n",
    "index=['0.40']\n",
    "mt_df7=pd.DataFrame(data=mean_tstep_summary_dict_40,index=index)\n",
    "\n",
    "mt_df_all=mt_df7.append(mt_df6).append(mt_df5).append(mt_df4).append(mt_df3).append(mt_df2).append(mt_df1)"
   ]
  },
  {
   "cell_type": "code",
   "execution_count": 10,
   "metadata": {},
   "outputs": [
    {
     "data": {
      "text/html": [
       "<div>\n",
       "<style>\n",
       "    .dataframe thead tr:only-child th {\n",
       "        text-align: right;\n",
       "    }\n",
       "\n",
       "    .dataframe thead th {\n",
       "        text-align: left;\n",
       "    }\n",
       "\n",
       "    .dataframe tbody tr th {\n",
       "        vertical-align: top;\n",
       "    }\n",
       "</style>\n",
       "<table border=\"1\" class=\"dataframe\">\n",
       "  <thead>\n",
       "    <tr style=\"text-align: right;\">\n",
       "      <th></th>\n",
       "      <th>0.05</th>\n",
       "      <th>0.1</th>\n",
       "      <th>0.125</th>\n",
       "      <th>0.15</th>\n",
       "      <th>0.2</th>\n",
       "      <th>0.25</th>\n",
       "      <th>0.3</th>\n",
       "      <th>0.4</th>\n",
       "      <th>0.5</th>\n",
       "      <th>0.6</th>\n",
       "      <th>0.75</th>\n",
       "      <th>0.8</th>\n",
       "    </tr>\n",
       "  </thead>\n",
       "  <tbody>\n",
       "    <tr>\n",
       "      <th>0.40</th>\n",
       "      <td>2000.0</td>\n",
       "      <td>2000.0</td>\n",
       "      <td>2000.0</td>\n",
       "      <td>2000.0</td>\n",
       "      <td>2000.0</td>\n",
       "      <td>2000.0</td>\n",
       "      <td>2000.0</td>\n",
       "      <td>2000.0</td>\n",
       "      <td>2000.0</td>\n",
       "      <td>2000.0</td>\n",
       "      <td>2000.0</td>\n",
       "      <td>2000.0</td>\n",
       "    </tr>\n",
       "    <tr>\n",
       "      <th>0.30</th>\n",
       "      <td>2000.0</td>\n",
       "      <td>2000.0</td>\n",
       "      <td>2000.0</td>\n",
       "      <td>2000.0</td>\n",
       "      <td>2000.0</td>\n",
       "      <td>2000.0</td>\n",
       "      <td>2000.0</td>\n",
       "      <td>2000.0</td>\n",
       "      <td>2000.0</td>\n",
       "      <td>2000.0</td>\n",
       "      <td>2000.0</td>\n",
       "      <td>2000.0</td>\n",
       "    </tr>\n",
       "    <tr>\n",
       "      <th>0.25</th>\n",
       "      <td>2000.0</td>\n",
       "      <td>2000.0</td>\n",
       "      <td>2000.0</td>\n",
       "      <td>2000.0</td>\n",
       "      <td>2000.0</td>\n",
       "      <td>2000.0</td>\n",
       "      <td>2000.0</td>\n",
       "      <td>2000.0</td>\n",
       "      <td>2000.0</td>\n",
       "      <td>2000.0</td>\n",
       "      <td>2000.0</td>\n",
       "      <td>2000.0</td>\n",
       "    </tr>\n",
       "    <tr>\n",
       "      <th>0.20</th>\n",
       "      <td>2000.0</td>\n",
       "      <td>2000.0</td>\n",
       "      <td>2000.0</td>\n",
       "      <td>2000.0</td>\n",
       "      <td>2000.0</td>\n",
       "      <td>2000.0</td>\n",
       "      <td>2000.0</td>\n",
       "      <td>2000.0</td>\n",
       "      <td>2000.0</td>\n",
       "      <td>2000.0</td>\n",
       "      <td>2000.0</td>\n",
       "      <td>2000.0</td>\n",
       "    </tr>\n",
       "    <tr>\n",
       "      <th>0.10</th>\n",
       "      <td>2000.0</td>\n",
       "      <td>2000.0</td>\n",
       "      <td>2000.0</td>\n",
       "      <td>2000.0</td>\n",
       "      <td>2000.0</td>\n",
       "      <td>2000.0</td>\n",
       "      <td>2000.0</td>\n",
       "      <td>2000.0</td>\n",
       "      <td>2000.0</td>\n",
       "      <td>2000.0</td>\n",
       "      <td>2000.0</td>\n",
       "      <td>2000.0</td>\n",
       "    </tr>\n",
       "    <tr>\n",
       "      <th>0.05</th>\n",
       "      <td>NaN</td>\n",
       "      <td>2000.0</td>\n",
       "      <td>2000.0</td>\n",
       "      <td>2000.0</td>\n",
       "      <td>2000.0</td>\n",
       "      <td>2000.0</td>\n",
       "      <td>2000.0</td>\n",
       "      <td>2000.0</td>\n",
       "      <td>2000.0</td>\n",
       "      <td>2000.0</td>\n",
       "      <td>2000.0</td>\n",
       "      <td>2000.0</td>\n",
       "    </tr>\n",
       "    <tr>\n",
       "      <th>0.00</th>\n",
       "      <td>NaN</td>\n",
       "      <td>NaN</td>\n",
       "      <td>NaN</td>\n",
       "      <td>NaN</td>\n",
       "      <td>NaN</td>\n",
       "      <td>2000.0</td>\n",
       "      <td>2000.0</td>\n",
       "      <td>2000.0</td>\n",
       "      <td>2000.0</td>\n",
       "      <td>2000.0</td>\n",
       "      <td>2000.0</td>\n",
       "      <td>2000.0</td>\n",
       "    </tr>\n",
       "  </tbody>\n",
       "</table>\n",
       "</div>"
      ],
      "text/plain": [
       "       0.050   0.100   0.125   0.150   0.200   0.250   0.300   0.400   0.500  \\\n",
       "0.40  2000.0  2000.0  2000.0  2000.0  2000.0  2000.0  2000.0  2000.0  2000.0   \n",
       "0.30  2000.0  2000.0  2000.0  2000.0  2000.0  2000.0  2000.0  2000.0  2000.0   \n",
       "0.25  2000.0  2000.0  2000.0  2000.0  2000.0  2000.0  2000.0  2000.0  2000.0   \n",
       "0.20  2000.0  2000.0  2000.0  2000.0  2000.0  2000.0  2000.0  2000.0  2000.0   \n",
       "0.10  2000.0  2000.0  2000.0  2000.0  2000.0  2000.0  2000.0  2000.0  2000.0   \n",
       "0.05     NaN  2000.0  2000.0  2000.0  2000.0  2000.0  2000.0  2000.0  2000.0   \n",
       "0.00     NaN     NaN     NaN     NaN     NaN  2000.0  2000.0  2000.0  2000.0   \n",
       "\n",
       "       0.600   0.750   0.800  \n",
       "0.40  2000.0  2000.0  2000.0  \n",
       "0.30  2000.0  2000.0  2000.0  \n",
       "0.25  2000.0  2000.0  2000.0  \n",
       "0.20  2000.0  2000.0  2000.0  \n",
       "0.10  2000.0  2000.0  2000.0  \n",
       "0.05  2000.0  2000.0  2000.0  \n",
       "0.00  2000.0  2000.0  2000.0  "
      ]
     },
     "execution_count": 10,
     "metadata": {},
     "output_type": "execute_result"
    }
   ],
   "source": [
    "mt_df_all"
   ]
  },
  {
   "cell_type": "markdown",
   "metadata": {},
   "source": [
    "plt.pcolor(df_all)\n",
    "plt.yticks(np.arange(0.5, len(df_all.index), 1), df_all.index)\n",
    "plt.xticks(np.arange(0.5, len(df_all.columns), 1), df_all.columns)\n",
    "plt.show()"
   ]
  },
  {
   "cell_type": "markdown",
   "metadata": {},
   "source": [
    "### Heatmaps"
   ]
  },
  {
   "cell_type": "code",
   "execution_count": 11,
   "metadata": {},
   "outputs": [
    {
     "data": {
      "image/png": "[encoded data removed]",
      "text/plain": [
       "<matplotlib.figure.Figure at 0x7f00e8391da0>"
      ]
     },
     "metadata": {},
     "output_type": "display_data"
    }
   ],
   "source": [
    "plt.figure(figsize=(20,10))\n",
    "sns.heatmap(ct_df_all, annot=True,cmap='hot')\n",
    "plt.ylabel('Sensor Noise')\n",
    "plt.xlabel('Defecting Ratio')\n",
    "plt.title('Number of failed experiments')\n",
    "# plt.savefig(\"FailedExperiments_Random\",bbox_inches='tight')\n",
    "plt.savefig(\"FailedExperiments_Defecting\",bbox_inches='tight')"
   ]
  },
  {
   "cell_type": "code",
   "execution_count": 12,
   "metadata": {},
   "outputs": [
    {
     "data": {
      "image/png": "[encoded data removed]",
      "text/plain": [
       "<matplotlib.figure.Figure at 0x7f00e633a4a8>"
      ]
     },
     "metadata": {},
     "output_type": "display_data"
    }
   ],
   "source": [
    "plt.figure(figsize=(20,10))\n",
    "sns.heatmap(mt_df_all, annot=True,cmap='summer')\n",
    "plt.ylabel('Sensor Noise')\n",
    "plt.xlabel('Defecting Ratio')\n",
    "plt.title('Mean Timestep for completion')\n",
    "# plt.savefig(\"Failed_MeanTimesteps_Random\",bbox_inches='tight')\n",
    "plt.savefig(\"Failed_MeanTimesteps_Defecting\",bbox_inches='tight')"
   ]
  },
  {
   "cell_type": "code",
   "execution_count": null,
   "metadata": {
    "collapsed": true
   },
   "outputs": [],
   "source": []
  }
 ],
 "metadata": {
  "kernelspec": {
   "display_name": "Python 3",
   "language": "python",
   "name": "python3"
  },
  "language_info": {
   "codemirror_mode": {
    "name": "ipython",
    "version": 3
   },
   "file_extension": ".py",
   "mimetype": "text/x-python",
   "name": "python",
   "nbconvert_exporter": "python",
   "pygments_lexer": "ipython3",
   "version": "3.5.4"
  }
 },
 "nbformat": 4,
 "nbformat_minor": 2
}
