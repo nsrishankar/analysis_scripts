{
 "cells": [
  {
   "cell_type": "code",
   "execution_count": 1,
   "metadata": {
    "collapsed": true
   },
   "outputs": [],
   "source": [
    "import numpy as np\n",
    "from scipy import spatial"
   ]
  },
  {
   "cell_type": "code",
   "execution_count": null,
   "metadata": {},
   "outputs": [],
   "source": [
    "n=10\n",
    "world=5\n",
    "PI=np.pi\n",
    "theta=PI/4\n",
    "\n",
    "A=np.ones((1,n))*1e-20\n",
    "# print(A)\n",
    "A[0,world]=1\n",
    "print(A)\n",
    "# print(np.linalg.norm(A))"
   ]
  },
  {
   "cell_type": "code",
   "execution_count": null,
   "metadata": {},
   "outputs": [],
   "source": [
    "B=np.cos(theta)/A\n",
    "print(B)"
   ]
  },
  {
   "cell_type": "code",
   "execution_count": null,
   "metadata": {
    "scrolled": true
   },
   "outputs": [],
   "source": [
    "B_normalized_simple=B/np.linalg.norm(B)\n",
    "print(B_normalized_simple)"
   ]
  },
  {
   "cell_type": "code",
   "execution_count": null,
   "metadata": {
    "collapsed": true
   },
   "outputs": [],
   "source": [
    "def better_defective_message(num_worlds,world_number,angle):\n",
    "\n",
    "    ideal_message=np.ones((1,n))*1e-20\n",
    "    ideal_message[0,world_number]=1.0\n",
    "    \n",
    "    simple_defecting_message=np.cos(angle)/ideal_message\n",
    "    \n",
    "    complicated_defecting_message=np.ones((1,n))*1e-20\n",
    "    complicated_defecting_message[0,world_number]=np.cos(angle)\n",
    "#     simple_defecting_message[0,world_number]\n",
    "    remaining_val=np.sqrt(1.0-simple_defecting_message[0,world_number]**2)\n",
    "    \n",
    "    other_index=num_worlds-1-world_number\n",
    "    complicated_defecting_message[0,other_index]=remaining_val\n",
    "    \n",
    "    return complicated_defecting_message"
   ]
  },
  {
   "cell_type": "code",
   "execution_count": null,
   "metadata": {},
   "outputs": [],
   "source": [
    "out=better_defective_message(n,world,theta)\n",
    "print(out)\n",
    "print(np.linalg.norm(out))"
   ]
  },
  {
   "cell_type": "code",
   "execution_count": null,
   "metadata": {},
   "outputs": [],
   "source": [
    "print(1-spatial.distance.cosine(A,B_normalized_simple))\n",
    "print(1-spatial.distance.cosine(A,B_normalized_simple))"
   ]
  },
  {
   "cell_type": "code",
   "execution_count": null,
   "metadata": {},
   "outputs": [],
   "source": [
    "print(1-spatial.distance.cosine(A,out))"
   ]
  },
  {
   "cell_type": "code",
   "execution_count": 11,
   "metadata": {},
   "outputs": [
    {
     "name": "stdout",
     "output_type": "stream",
     "text": [
      "[[ 0.31610192]\n",
      " [ 0.31620574]\n",
      " [ 0.31601805]\n",
      " [ 0.31623608]\n",
      " [ 0.31619602]\n",
      " [ 0.3165114 ]\n",
      " [ 0.31664157]\n",
      " [ 0.31639252]\n",
      " [ 0.31591796]\n",
      " [ 0.31605565]]\n"
     ]
    }
   ],
   "source": [
    "sums=np.zeros((10,1))\n",
    "for i in range(1000000):\n",
    "    \n",
    "    temp=np.random.random_sample((10,1))\n",
    "    temp_normalized=temp/np.linalg.norm(temp)\n",
    "#     print(temp_normalized)\n",
    "    sums+=temp_normalized\n",
    "out=sums/i\n",
    "print(out/np.linalg.norm(out))"
   ]
  },
  {
   "cell_type": "code",
   "execution_count": null,
   "metadata": {
    "collapsed": true
   },
   "outputs": [],
   "source": []
  }
 ],
 "metadata": {
  "kernelspec": {
   "display_name": "Python 3",
   "language": "python",
   "name": "python3"
  },
  "language_info": {
   "codemirror_mode": {
    "name": "ipython",
    "version": 3
   },
   "file_extension": ".py",
   "mimetype": "text/x-python",
   "name": "python",
   "nbconvert_exporter": "python",
   "pygments_lexer": "ipython3",
   "version": "3.5.4"
  }
 },
 "nbformat": 4,
 "nbformat_minor": 2
}
